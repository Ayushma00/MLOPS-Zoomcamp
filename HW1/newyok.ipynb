{
 "cells": [
  {
   "cell_type": "code",
   "execution_count": 1,
   "metadata": {},
   "outputs": [],
   "source": [
    "import numpy as np\n",
    "import pandas as pd\n",
    "import matplotlib.pyplot as plt\n",
    "import seaborn as sns\n",
    "import os\n",
    "from pathlib import Path\n",
    "\n",
    "from sklearn.feature_extraction import DictVectorizer\n",
    "from sklearn.linear_model import LinearRegression\n",
    "from sklearn.metrics import mean_squared_error"
   ]
  },
  {
   "cell_type": "code",
   "execution_count": 2,
   "metadata": {},
   "outputs": [
    {
     "name": "stdout",
     "output_type": "stream",
     "text": [
      "Current path: d:\\mLOPS\\2024-MLOPS-ZOOMCAMP\\HW1\n"
     ]
    }
   ],
   "source": [
    "current_path = Path.cwd()\n",
    "print(f\"Current path: {current_path}\")\n",
    "data_path = current_path / \"Data\\yellow_tripdata_2023-01.parquet\""
   ]
  },
  {
   "cell_type": "code",
   "execution_count": 3,
   "metadata": {},
   "outputs": [
    {
     "name": "stdout",
     "output_type": "stream",
     "text": [
      "The total columns in January datasets : 19\n"
     ]
    }
   ],
   "source": [
    "df_jan = pd.read_parquet(data_path)\n",
    "print(\"The total columns in January datasets :\",len(df_jan.columns))\n"
   ]
  },
  {
   "cell_type": "code",
   "execution_count": 4,
   "metadata": {},
   "outputs": [],
   "source": [
    "df_jan[\"duration_datetime\"] = df_jan[\"tpep_dropoff_datetime\"] - df_jan[\"tpep_pickup_datetime\"]"
   ]
  },
  {
   "cell_type": "code",
   "execution_count": 5,
   "metadata": {},
   "outputs": [],
   "source": [
    "df_jan['trip_duration_minutes'] = df_jan['duration_datetime'].dt.total_seconds() / 60"
   ]
  },
  {
   "cell_type": "code",
   "execution_count": 6,
   "metadata": {},
   "outputs": [
    {
     "name": "stdout",
     "output_type": "stream",
     "text": [
      "Standard Deviation of Trip Durations (in minutes): 42.59\n"
     ]
    }
   ],
   "source": [
    "trip_duration_std = df_jan['trip_duration_minutes'].std()\n",
    "print(f\"Standard Deviation of Trip Durations (in minutes): {trip_duration_std:.2f}\")"
   ]
  },
  {
   "cell_type": "code",
   "execution_count": 7,
   "metadata": {},
   "outputs": [],
   "source": [
    "filtered_df = df_jan[(df_jan[\"trip_duration_minutes\"]>=1) & (df_jan[\"trip_duration_minutes\"]<=60)]"
   ]
  },
  {
   "cell_type": "code",
   "execution_count": 8,
   "metadata": {},
   "outputs": [
    {
     "name": "stdout",
     "output_type": "stream",
     "text": [
      "Fraction of records left after dropping outliers: 98.12%\n"
     ]
    }
   ],
   "source": [
    "fraction_left = len(filtered_df) / len(df_jan)\n",
    "\n",
    "# Display the fraction\n",
    "print(f\"Fraction of records left after dropping outliers: {fraction_left:.2%}\")"
   ]
  },
  {
   "cell_type": "code",
   "execution_count": 9,
   "metadata": {},
   "outputs": [
    {
     "data": {
      "text/plain": [
       "Index(['VendorID', 'tpep_pickup_datetime', 'tpep_dropoff_datetime',\n",
       "       'passenger_count', 'trip_distance', 'RatecodeID', 'store_and_fwd_flag',\n",
       "       'PULocationID', 'DOLocationID', 'payment_type', 'fare_amount', 'extra',\n",
       "       'mta_tax', 'tip_amount', 'tolls_amount', 'improvement_surcharge',\n",
       "       'total_amount', 'congestion_surcharge', 'airport_fee',\n",
       "       'duration_datetime', 'trip_duration_minutes'],\n",
       "      dtype='object')"
      ]
     },
     "execution_count": 9,
     "metadata": {},
     "output_type": "execute_result"
    }
   ],
   "source": [
    "filtered_df.columns"
   ]
  },
  {
   "cell_type": "code",
   "execution_count": 10,
   "metadata": {},
   "outputs": [],
   "source": [
    "features =filtered_df[['PULocationID', 'DOLocationID']]\n",
    "features = features.astype('str')"
   ]
  },
  {
   "cell_type": "code",
   "execution_count": 11,
   "metadata": {},
   "outputs": [
    {
     "name": "stdout",
     "output_type": "stream",
     "text": [
      "  (0, 43)\t1.0\n",
      "  (0, 325)\t1.0\n",
      "  (1, 148)\t1.0\n",
      "  (1, 456)\t1.0\n",
      "  (2, 149)\t1.0\n",
      "  (2, 461)\t1.0\n",
      "  (3, 227)\t1.0\n",
      "  (3, 299)\t1.0\n",
      "  (4, 237)\t1.0\n",
      "  (4, 266)\t1.0\n",
      "  (5, 38)\t1.0\n",
      "  (5, 325)\t1.0\n",
      "  (6, 45)\t1.0\n",
      "  (6, 409)\t1.0\n",
      "  (7, 108)\t1.0\n",
      "  (7, 304)\t1.0\n",
      "  (8, 147)\t1.0\n",
      "  (8, 328)\t1.0\n",
      "  (9, 6)\t1.0\n",
      "  (9, 303)\t1.0\n",
      "  (10, 225)\t1.0\n",
      "  (10, 404)\t1.0\n",
      "  (11, 178)\t1.0\n",
      "  (11, 494)\t1.0\n",
      "  (12, 45)\t1.0\n",
      "  :\t:\n",
      "  (3009160, 328)\t1.0\n",
      "  (3009161, 155)\t1.0\n",
      "  (3009161, 494)\t1.0\n",
      "  (3009162, 203)\t1.0\n",
      "  (3009162, 306)\t1.0\n",
      "  (3009163, 50)\t1.0\n",
      "  (3009163, 325)\t1.0\n",
      "  (3009164, 242)\t1.0\n",
      "  (3009164, 401)\t1.0\n",
      "  (3009165, 54)\t1.0\n",
      "  (3009165, 326)\t1.0\n",
      "  (3009166, 64)\t1.0\n",
      "  (3009166, 482)\t1.0\n",
      "  (3009167, 46)\t1.0\n",
      "  (3009167, 401)\t1.0\n",
      "  (3009168, 203)\t1.0\n",
      "  (3009168, 266)\t1.0\n",
      "  (3009169, 233)\t1.0\n",
      "  (3009169, 271)\t1.0\n",
      "  (3009170, 150)\t1.0\n",
      "  (3009170, 273)\t1.0\n",
      "  (3009171, 237)\t1.0\n",
      "  (3009171, 400)\t1.0\n",
      "  (3009172, 45)\t1.0\n",
      "  (3009172, 435)\t1.0\n"
     ]
    }
   ],
   "source": [
    "data_dicts = features.to_dict(orient='records')\n",
    "\n",
    "# Fit a DictVectorizer\n",
    "dict_vectorizer = DictVectorizer()\n",
    "feature_matrix=dict_vectorizer.fit_transform(data_dicts)\n",
    "\n",
    "# Display the feature matrix\n",
    "print(feature_matrix)"
   ]
  },
  {
   "cell_type": "code",
   "execution_count": 12,
   "metadata": {},
   "outputs": [
    {
     "name": "stdout",
     "output_type": "stream",
     "text": [
      "The dimensionality of this matrix (number of columns) :  515\n"
     ]
    }
   ],
   "source": [
    "print(\"The dimensionality of this matrix (number of columns) : \",feature_matrix.shape[1])"
   ]
  },
  {
   "cell_type": "code",
   "execution_count": 13,
   "metadata": {},
   "outputs": [],
   "source": [
    "target = filtered_df['trip_duration_minutes'].values"
   ]
  },
  {
   "cell_type": "code",
   "execution_count": 14,
   "metadata": {},
   "outputs": [
    {
     "data": {
      "text/plain": [
       "array([ 8.43333333,  6.31666667, 12.75      , ..., 24.51666667,\n",
       "       13.        , 14.4       ])"
      ]
     },
     "execution_count": 14,
     "metadata": {},
     "output_type": "execute_result"
    }
   ],
   "source": [
    "target"
   ]
  },
  {
   "cell_type": "code",
   "execution_count": 15,
   "metadata": {},
   "outputs": [],
   "source": [
    "model = LinearRegression()\n",
    "model.fit(feature_matrix, target)\n",
    "\n",
    "# Predict target variable on the training data\n",
    "predictions = model.predict(feature_matrix)"
   ]
  },
  {
   "cell_type": "code",
   "execution_count": 16,
   "metadata": {},
   "outputs": [
    {
     "data": {
      "text/plain": [
       "array([11.5271505 , 10.89768796, 11.32570713, ..., 11.73770536,\n",
       "       12.70523327, 11.54227397])"
      ]
     },
     "execution_count": 16,
     "metadata": {},
     "output_type": "execute_result"
    }
   ],
   "source": [
    "predictions"
   ]
  },
  {
   "cell_type": "code",
   "execution_count": 17,
   "metadata": {},
   "outputs": [
    {
     "name": "stdout",
     "output_type": "stream",
     "text": [
      "Mean Squared Error (MSE) on the training data: 58.51\n"
     ]
    }
   ],
   "source": [
    "\n",
    "\n",
    "# Calculate RMSE\n",
    "mse = mean_squared_error(target, predictions)\n",
    "\n",
    "# Display the RMSE\n",
    "print(f\"Mean Squared Error (MSE) on the training data: {mse:.2f}\")"
   ]
  },
  {
   "cell_type": "code",
   "execution_count": 18,
   "metadata": {},
   "outputs": [
    {
     "name": "stdout",
     "output_type": "stream",
     "text": [
      "Root Mean Squared Error (RMSE) on the training data: 7.65\n"
     ]
    }
   ],
   "source": [
    "rmse = np.sqrt(mse)\n",
    "print(f\"Root Mean Squared Error (RMSE) on the training data: {rmse:.2f}\")"
   ]
  },
  {
   "cell_type": "markdown",
   "metadata": {},
   "source": [
    "## Validation set "
   ]
  },
  {
   "cell_type": "code",
   "execution_count": 19,
   "metadata": {},
   "outputs": [],
   "source": [
    "def data_preprocessing(df):\n",
    "    df[\"duration_datetime\"] = df[\"tpep_dropoff_datetime\"] - df[\"tpep_pickup_datetime\"]\n",
    "    df['trip_duration_minutes'] = df['duration_datetime'].dt.total_seconds() / 60\n",
    "    filtered_df = df[(df[\"trip_duration_minutes\"]>=1) & (df[\"trip_duration_minutes\"]<=60)]\n",
    "    return filtered_df"
   ]
  },
  {
   "cell_type": "code",
   "execution_count": 20,
   "metadata": {},
   "outputs": [],
   "source": [
    "def features_extraction(df):\n",
    "    features =df[['PULocationID', 'DOLocationID']]\n",
    "    features = features.astype('str')\n",
    "    data_dicts = features.to_dict(orient='records')\n",
    "    feature_matrix=dict_vectorizer.transform(data_dicts)\n",
    "    target = df['trip_duration_minutes'].values\n",
    "    return feature_matrix, target\n",
    "\n",
    "    \n",
    "    "
   ]
  },
  {
   "cell_type": "code",
   "execution_count": 21,
   "metadata": {},
   "outputs": [],
   "source": [
    "data_path = current_path / \"Data\\yellow_tripdata_2023-02.parquet\"\n",
    "df_val = pd.read_parquet(data_path)\n",
    "df_val_filtered = data_preprocessing(df_val)\n",
    "X_test,y_test = features_extraction(df_val_filtered)\n",
    "\n",
    "\n",
    "    "
   ]
  },
  {
   "cell_type": "code",
   "execution_count": 22,
   "metadata": {},
   "outputs": [
    {
     "data": {
      "text/plain": [
       "(2855951, 515)"
      ]
     },
     "execution_count": 22,
     "metadata": {},
     "output_type": "execute_result"
    }
   ],
   "source": [
    "X_test.shape"
   ]
  },
  {
   "cell_type": "code",
   "execution_count": 23,
   "metadata": {},
   "outputs": [
    {
     "name": "stdout",
     "output_type": "stream",
     "text": [
      "Root Mean Squared Error (RMSE) on the validation data: 7.81\n"
     ]
    }
   ],
   "source": [
    "predictions = model.predict(X_test)\n",
    "rmse = np.sqrt(mean_squared_error(y_test, predictions))\n",
    "print(f\"Root Mean Squared Error (RMSE) on the validation data: {rmse:.2f}\")"
   ]
  }
 ],
 "metadata": {
  "kernelspec": {
   "display_name": "Python 3",
   "language": "python",
   "name": "python3"
  },
  "language_info": {
   "codemirror_mode": {
    "name": "ipython",
    "version": 3
   },
   "file_extension": ".py",
   "mimetype": "text/x-python",
   "name": "python",
   "nbconvert_exporter": "python",
   "pygments_lexer": "ipython3",
   "version": "3.10.4"
  }
 },
 "nbformat": 4,
 "nbformat_minor": 2
}
